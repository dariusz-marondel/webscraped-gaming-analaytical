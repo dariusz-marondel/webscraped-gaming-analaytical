{
 "cells": [
  {
   "cell_type": "markdown",
   "metadata": {},
   "source": [
    "## Data ETL \n",
    "\n",
    "### Initial data - dictionaries\n",
    "\n",
    "I asked my friends to provide data in form of a dictionary to ensure correct data structure. Not all of them are coders, but all of them encountered data in life before. I explained that the dictionary is a data structure that for every category (key) has a corresponding value. I asked for a dictionary to look like this:"
   ]
  },
  {
   "cell_type": "code",
   "execution_count": null,
   "metadata": {},
   "outputs": [],
   "source": [
    "my_name = {\n",
    "    'nickname': '', # Your in-game summoner name\n",
    "    'tagline':'', # Riot_id tagline\n",
    "    'role': '', # The role you are gonna play\n",
    "    'champ_pool': ['champ1', 'champ2', 'champ3', ...] # List you favorite champs but please no more than 6\n",
    "}"
   ]
  },
  {
   "cell_type": "markdown",
   "metadata": {},
   "source": [
    "They were not so sure about it and some asked if they can just send a table in some popular program (that should remain nameless). But with my mission of disenchanting coding for people I proposed that I will fill the dictionary based on my data and that they could simply repeform and then they agreed. I knew they could do it!\n",
    "\n",
    "#### My example"
   ]
  },
  {
   "cell_type": "code",
   "execution_count": null,
   "metadata": {},
   "outputs": [],
   "source": [
    "julian_dict = {\n",
    "    'nickname': 'Vile Vilainess',\n",
    "    'tagline':'JNX',\n",
    "    'role': 'jungler',\n",
    "    'champ_pool': ['Lilia', 'Volibear', 'Sejuani', 'Poppy', 'Ekko', 'Hecarim'] # I know I am already frustrated with myself that i set limit to 6\n",
    "}"
   ]
  },
  {
   "cell_type": "markdown",
   "metadata": {},
   "source": [
    "### My friends Data\n",
    "\n"
   ]
  },
  {
   "cell_type": "markdown",
   "metadata": {},
   "source": [
    "As a result of the process I have been provided with the `npb_data.json`file that contains all required data of the Nexus Park Boys team. "
   ]
  },
  {
   "cell_type": "code",
   "execution_count": null,
   "metadata": {},
   "outputs": [],
   "source": [
    "import json \n",
    "import pandas as pd\n",
    "\n",
    "# Path to a file\n",
    "file_path = 'npb_data.json'\n",
    "\n",
    "with open(file_path, 'r') as file:\n",
    "    json_data = json.load(file)\n",
    "\n",
    "\n",
    "npb_df = pd.DataFrame.from_dict(json_data, orient='index')"
   ]
  },
  {
   "cell_type": "markdown",
   "metadata": {},
   "source": [
    "## Creating and population an sqlite database\n",
    "\n",
    "### Creation of a DB and establishing a connection"
   ]
  },
  {
   "cell_type": "code",
   "execution_count": null,
   "metadata": {},
   "outputs": [],
   "source": [
    "import sqlite3 as sql\n",
    "\n",
    "# Create SQLite database\n",
    "main_db = sql.connect(r'project_database.db')\n",
    "\n",
    "# Create an explicit cursor object since SQLite embeeded in Python does not support implicit cursor object\n",
    "cursor = main_db.cursor()"
   ]
  },
  {
   "cell_type": "markdown",
   "metadata": {},
   "source": [
    "### Inserting prepared data into a database\n",
    "We create new table for each prepared dataframe "
   ]
  },
  {
   "cell_type": "code",
   "execution_count": null,
   "metadata": {},
   "outputs": [],
   "source": [
    "npb_df = npb_df.iloc[:, 0:2]\n",
    "\n",
    "# Insert data from DataFrame into new table in DB\n",
    "npb_df.to_sql('players', main_db, if_exists='replace', index = True)\n",
    "champion_pool.to_sql('champion_pool', main_db, if_exists='replace', index = True)\n",
    "\n",
    "npb_df"
   ]
  },
  {
   "cell_type": "markdown",
   "metadata": {},
   "source": [
    "## Getting champions ID\n",
    "\n",
    "Our team obviously operates with champion names but what I know is that Riot API operates with champion IDs. HAving that in mind i got [json file](champions_data.json) from Riot's site for developers that will allow me to connect (relate) champion names to theirs ID. \n",
    "\n",
    "#"
   ]
  },
  {
   "cell_type": "code",
   "execution_count": null,
   "metadata": {},
   "outputs": [],
   "source": [
    "file_path = 'champions_data.json'\n",
    "\n",
    "with open (file_path, 'r') as file:\n",
    "    data = json.load(file)\n",
    "\n",
    "\n",
    "# Extract relevant data for DataFrame\n",
    "champion_list = []\n",
    "for champion, details in data['data'].items():\n",
    "    champ_dict = {\n",
    "        'id': details['id'],\n",
    "        'name': details['name'],\n",
    "        'title': details['title'],\n",
    "        'attack': details['info']['attack'],\n",
    "        'defense': details['info']['defense'],\n",
    "        'magic': details['info']['magic'],\n",
    "        'difficulty': details['info']['difficulty'],\n",
    "        'tags': \", \".join(details['tags']),\n",
    "        'partype': details['partype'],\n",
    "        'hp': details['stats']['hp'],\n",
    "        'hpperlevel': details['stats']['hpperlevel'],\n",
    "        'mp': details['stats']['mp'],\n",
    "        'mpperlevel': details['stats']['mpperlevel'],\n",
    "        'movespeed': details['stats']['movespeed'],\n",
    "        'armor': details['stats']['armor'],\n",
    "        'armorperlevel': details['stats']['armorperlevel'],\n",
    "        'spellblock': details['stats']['spellblock'],\n",
    "        'spellblockperlevel': details['stats']['spellblockperlevel'],\n",
    "        'attackrange': details['stats']['attackrange'],\n",
    "        'hpregen': details['stats']['hpregen'],\n",
    "        'hpregenperlevel': details['stats']['hpregenperlevel'],\n",
    "        'mpregen': details['stats']['mpregen'],\n",
    "        'mpregenperlevel': details['stats']['mpregenperlevel'],\n",
    "        'crit': details['stats']['crit'],\n",
    "        'critperlevel': details['stats']['critperlevel'],\n",
    "        'attackdamage': details['stats']['attackdamage'],\n",
    "        'attackdamageperlevel': details['stats']['attackdamageperlevel'],\n",
    "        'attackspeedperlevel': details['stats']['attackspeedperlevel'],\n",
    "        'attackspeed': details['stats']['attackspeed']\n",
    "    }\n",
    "    champion_list.append(champ_dict)\n",
    "\n",
    "# Create DataFrame\n",
    "champions_df = pd.DataFrame(champion_list)"
   ]
  },
  {
   "cell_type": "markdown",
   "metadata": {},
   "source": [
    "Now simply add another table into our db"
   ]
  },
  {
   "cell_type": "code",
   "execution_count": null,
   "metadata": {},
   "outputs": [],
   "source": [
    "champions_df.to_sql('champions', main_db, if_exists='replace', index=True)"
   ]
  },
  {
   "cell_type": "markdown",
   "metadata": {},
   "source": [
    "### Issue with creating sql tables using Pandas\n",
    "\n",
    "There is no way to create tables with primary key directly from Python. Furthermore SQLite does not support altering a table by adding a primary key. \n",
    "\n",
    "An ideal approach would be to first create a tables in SQL and this is an approach that will be generally used in this repository, however just to simulate a real life problem and that any problem can be solved we will execute SQL query using temporary tables to get a tables with primary key. "
   ]
  }
 ],
 "metadata": {
  "kernelspec": {
   "display_name": ".venv",
   "language": "python",
   "name": "python3"
  },
  "language_info": {
   "codemirror_mode": {
    "name": "ipython",
    "version": 3
   },
   "file_extension": ".py",
   "mimetype": "text/x-python",
   "name": "python",
   "nbconvert_exporter": "python",
   "pygments_lexer": "ipython3",
   "version": "3.8.10"
  }
 },
 "nbformat": 4,
 "nbformat_minor": 2
}
