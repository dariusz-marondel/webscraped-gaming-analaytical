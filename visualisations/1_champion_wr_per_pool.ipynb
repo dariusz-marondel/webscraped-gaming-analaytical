{
 "cells": [
  {
   "cell_type": "markdown",
   "metadata": {},
   "source": [
    "# Win rate \n",
    "\n",
    "Having established what are our respective champion pools and loaded them into a table I can begin the analysis from simply determining our champion winrate. It will give my friends and myself a reqlity check on which of our favorite champions are currently the best choice. Fan-favorite statistic is a specific's champion win rate meaning percentage of game swon with that champion in relation to all games played by that champion. With hundred of thousands of League's players playing every day there is a good chance that after only a few days we have enough data to adapt an assumption that winrate does not occur due to some random events but rather a systematic effect of changes made by game's development team that adjust champions and items in game. \n",
    "\n",
    "## Data used in the notebook\n",
    "\n",
    "In this analysis we use data from real matches in ranked soloq leagues from Platinum IV to Diamond I. Data is pulled from Riot Developer API endpoints using a development key. It was achieved by pulling data from various endpoints, tranforming their responses and based on that reposonses I have been able to create a table of random 10,000 games played since last patch (changes made to game that can potentialy impact champion winrate). All technical are desribed in comments of files contained in the directory `api_calls`. \n",
    "\n",
    "That resulted in a table of 100,000 records from those 10,000 games. Each record represents a champion played suplemented by information on whether game has been won by the champion or lost. Based on that information we will be able to calculate some summary statistics and \n",
    "\n",
    "## Package import\n",
    "Import of all custom function packages that will be used in this notebook"
   ]
  },
  {
   "cell_type": "code",
   "execution_count": 1,
   "metadata": {},
   "outputs": [],
   "source": [
    "import pandas as pd\n",
    "import plotly.graph_objects as go\n",
    "import seaborn as sns\n",
    "import sqlite3\n"
   ]
  },
  {
   "cell_type": "markdown",
   "metadata": {},
   "source": [
    "## Load and transform data\n",
    "Data extracted from official game developer can now be load into pandas dataframes (tables if you wish) to be used in my calculations. But first we need a connection to previously created database in order to access a data stored in tables. \n",
    "\n",
    "### Connect to a database\n",
    "I order to allow interaction between Python and our database we need to establish a connection and create a cursor object. "
   ]
  },
  {
   "cell_type": "code",
   "execution_count": 3,
   "metadata": {},
   "outputs": [],
   "source": [
    "main_db = sqlite3.connect(r'/Users/amberlights/Repositories/simple-lol-stats/sqlite_database/project_database.db')\n",
    "cursor = main_db.cursor()"
   ]
  },
  {
   "cell_type": "markdown",
   "metadata": {},
   "source": [
    "### Summary Statistics\n",
    "\n",
    "Let's calculate them directly in sql as a gigachad data analyst. "
   ]
  },
  {
   "cell_type": "code",
   "execution_count": 4,
   "metadata": {},
   "outputs": [],
   "source": [
    "highest_winrate_10 = pd.read_sql('''\n",
    "SELECT champion, ROUND(AVG(have_won), 2) AS win_rate, count(champion) as games_played\n",
    "FROM winrate_data\n",
    "GROUP BY champion\n",
    "ORDER BY AVG(have_won) DESC\n",
    "LIMIT 10;\n",
    "''', main_db)\n",
    "\n",
    "highest_play_count_10 = pd.read_sql('''\n",
    "SELECT champion, ROUND(AVG(have_won), 2) AS win_rate, count(champion) as games_played\n",
    "FROM winrate_data\n",
    "GROUP BY champion\n",
    "ORDER BY count(champion) DESC\n",
    "LIMIT 10;\n",
    "''', main_db)"
   ]
  },
  {
   "cell_type": "markdown",
   "metadata": {},
   "source": [
    "and display using Jupyter's wonderful possibility of not using 'print()'\n",
    "\n",
    "### 10 Most frequently played champions"
   ]
  },
  {
   "cell_type": "code",
   "execution_count": 6,
   "metadata": {},
   "outputs": [
    {
     "data": {
      "text/html": [
       "<div>\n",
       "<style scoped>\n",
       "    .dataframe tbody tr th:only-of-type {\n",
       "        vertical-align: middle;\n",
       "    }\n",
       "\n",
       "    .dataframe tbody tr th {\n",
       "        vertical-align: top;\n",
       "    }\n",
       "\n",
       "    .dataframe thead th {\n",
       "        text-align: right;\n",
       "    }\n",
       "</style>\n",
       "<table border=\"1\" class=\"dataframe\">\n",
       "  <thead>\n",
       "    <tr style=\"text-align: right;\">\n",
       "      <th></th>\n",
       "      <th>champion</th>\n",
       "      <th>win_rate</th>\n",
       "      <th>games_played</th>\n",
       "    </tr>\n",
       "  </thead>\n",
       "  <tbody>\n",
       "    <tr>\n",
       "      <th>0</th>\n",
       "      <td>Jinx</td>\n",
       "      <td>0.50</td>\n",
       "      <td>2034</td>\n",
       "    </tr>\n",
       "    <tr>\n",
       "      <th>1</th>\n",
       "      <td>Caitlyn</td>\n",
       "      <td>0.51</td>\n",
       "      <td>2025</td>\n",
       "    </tr>\n",
       "    <tr>\n",
       "      <th>2</th>\n",
       "      <td>Lux</td>\n",
       "      <td>0.61</td>\n",
       "      <td>2012</td>\n",
       "    </tr>\n",
       "    <tr>\n",
       "      <th>3</th>\n",
       "      <td>MonkeyKing</td>\n",
       "      <td>0.61</td>\n",
       "      <td>1940</td>\n",
       "    </tr>\n",
       "    <tr>\n",
       "      <th>4</th>\n",
       "      <td>Lulu</td>\n",
       "      <td>0.53</td>\n",
       "      <td>1743</td>\n",
       "    </tr>\n",
       "    <tr>\n",
       "      <th>5</th>\n",
       "      <td>MissFortune</td>\n",
       "      <td>0.52</td>\n",
       "      <td>1557</td>\n",
       "    </tr>\n",
       "    <tr>\n",
       "      <th>6</th>\n",
       "      <td>Jhin</td>\n",
       "      <td>0.48</td>\n",
       "      <td>1547</td>\n",
       "    </tr>\n",
       "    <tr>\n",
       "      <th>7</th>\n",
       "      <td>Viego</td>\n",
       "      <td>0.52</td>\n",
       "      <td>1462</td>\n",
       "    </tr>\n",
       "    <tr>\n",
       "      <th>8</th>\n",
       "      <td>TahmKench</td>\n",
       "      <td>0.35</td>\n",
       "      <td>1420</td>\n",
       "    </tr>\n",
       "    <tr>\n",
       "      <th>9</th>\n",
       "      <td>Nami</td>\n",
       "      <td>0.52</td>\n",
       "      <td>1397</td>\n",
       "    </tr>\n",
       "  </tbody>\n",
       "</table>\n",
       "</div>"
      ],
      "text/plain": [
       "      champion  win_rate  games_played\n",
       "0         Jinx      0.50          2034\n",
       "1      Caitlyn      0.51          2025\n",
       "2          Lux      0.61          2012\n",
       "3   MonkeyKing      0.61          1940\n",
       "4         Lulu      0.53          1743\n",
       "5  MissFortune      0.52          1557\n",
       "6         Jhin      0.48          1547\n",
       "7        Viego      0.52          1462\n",
       "8    TahmKench      0.35          1420\n",
       "9         Nami      0.52          1397"
      ]
     },
     "execution_count": 6,
     "metadata": {},
     "output_type": "execute_result"
    }
   ],
   "source": [
    "highest_play_count_10"
   ]
  },
  {
   "cell_type": "markdown",
   "metadata": {},
   "source": [
    "### 10 Champions with the highest winrate"
   ]
  },
  {
   "cell_type": "code",
   "execution_count": 7,
   "metadata": {},
   "outputs": [
    {
     "data": {
      "text/html": [
       "<div>\n",
       "<style scoped>\n",
       "    .dataframe tbody tr th:only-of-type {\n",
       "        vertical-align: middle;\n",
       "    }\n",
       "\n",
       "    .dataframe tbody tr th {\n",
       "        vertical-align: top;\n",
       "    }\n",
       "\n",
       "    .dataframe thead th {\n",
       "        text-align: right;\n",
       "    }\n",
       "</style>\n",
       "<table border=\"1\" class=\"dataframe\">\n",
       "  <thead>\n",
       "    <tr style=\"text-align: right;\">\n",
       "      <th></th>\n",
       "      <th>champion</th>\n",
       "      <th>win_rate</th>\n",
       "      <th>games_played</th>\n",
       "    </tr>\n",
       "  </thead>\n",
       "  <tbody>\n",
       "    <tr>\n",
       "      <th>0</th>\n",
       "      <td>Sona</td>\n",
       "      <td>0.79</td>\n",
       "      <td>679</td>\n",
       "    </tr>\n",
       "    <tr>\n",
       "      <th>1</th>\n",
       "      <td>Chogath</td>\n",
       "      <td>0.69</td>\n",
       "      <td>1144</td>\n",
       "    </tr>\n",
       "    <tr>\n",
       "      <th>2</th>\n",
       "      <td>Vayne</td>\n",
       "      <td>0.68</td>\n",
       "      <td>1269</td>\n",
       "    </tr>\n",
       "    <tr>\n",
       "      <th>3</th>\n",
       "      <td>MonkeyKing</td>\n",
       "      <td>0.61</td>\n",
       "      <td>1940</td>\n",
       "    </tr>\n",
       "    <tr>\n",
       "      <th>4</th>\n",
       "      <td>Lux</td>\n",
       "      <td>0.61</td>\n",
       "      <td>2012</td>\n",
       "    </tr>\n",
       "    <tr>\n",
       "      <th>5</th>\n",
       "      <td>Anivia</td>\n",
       "      <td>0.60</td>\n",
       "      <td>233</td>\n",
       "    </tr>\n",
       "    <tr>\n",
       "      <th>6</th>\n",
       "      <td>Nidalee</td>\n",
       "      <td>0.58</td>\n",
       "      <td>150</td>\n",
       "    </tr>\n",
       "    <tr>\n",
       "      <th>7</th>\n",
       "      <td>Rumble</td>\n",
       "      <td>0.58</td>\n",
       "      <td>119</td>\n",
       "    </tr>\n",
       "    <tr>\n",
       "      <th>8</th>\n",
       "      <td>Singed</td>\n",
       "      <td>0.57</td>\n",
       "      <td>216</td>\n",
       "    </tr>\n",
       "    <tr>\n",
       "      <th>9</th>\n",
       "      <td>RekSai</td>\n",
       "      <td>0.57</td>\n",
       "      <td>139</td>\n",
       "    </tr>\n",
       "  </tbody>\n",
       "</table>\n",
       "</div>"
      ],
      "text/plain": [
       "     champion  win_rate  games_played\n",
       "0        Sona      0.79           679\n",
       "1     Chogath      0.69          1144\n",
       "2       Vayne      0.68          1269\n",
       "3  MonkeyKing      0.61          1940\n",
       "4         Lux      0.61          2012\n",
       "5      Anivia      0.60           233\n",
       "6     Nidalee      0.58           150\n",
       "7      Rumble      0.58           119\n",
       "8      Singed      0.57           216\n",
       "9      RekSai      0.57           139"
      ]
     },
     "execution_count": 7,
     "metadata": {},
     "output_type": "execute_result"
    }
   ],
   "source": [
    "highest_winrate_10"
   ]
  },
  {
   "cell_type": "markdown",
   "metadata": {},
   "source": [
    "## Visualisation\n",
    "After a glimpse of what can we expect in our data let's prepare the actuals that we will use in our exercise. \n",
    "\n",
    "### Data need for plots\n",
    "Data pulled from API representing winrate for every champion played since last patch in ranked games on EUNE server"
   ]
  },
  {
   "cell_type": "code",
   "execution_count": 41,
   "metadata": {},
   "outputs": [],
   "source": [
    "server_winrate = pd.read_sql('''\n",
    "SELECT c.name as champion, ROUND(AVG(w.have_won), 4) AS winrate, count(w.champion) as games_played\n",
    "FROM winrate_data w\n",
    "LEFT JOIN champions c\n",
    "ON w.champion = c.id\n",
    "WHERE champion is not null\n",
    "GROUP BY c.name;\n",
    "''', main_db\n",
    ")"
   ]
  },
  {
   "cell_type": "markdown",
   "metadata": {},
   "source": [
    "Data of our team champion pools and roles"
   ]
  },
  {
   "cell_type": "code",
   "execution_count": 35,
   "metadata": {},
   "outputs": [],
   "source": [
    "npb_champion_pool = pd.read_sql('''\n",
    "SELECT role, champion\n",
    "FROM champion_pool\n",
    "''', main_db\n",
    ")"
   ]
  },
  {
   "cell_type": "markdown",
   "metadata": {},
   "source": [
    "### Data transformation\n",
    "\n",
    "Having both sets read as pandas data frames, we can connect them together using left join - meaing that for all data in our champion pool table we will 'add' a data from a `server_winrate` table. "
   ]
  },
  {
   "cell_type": "code",
   "execution_count": 42,
   "metadata": {},
   "outputs": [],
   "source": [
    "data_transformed = pd.merge(npb_champion_pool, server_winrate, on='champion', how='left')"
   ]
  },
  {
   "cell_type": "markdown",
   "metadata": {},
   "source": [
    "now lets change winrate from decimal to percentage"
   ]
  },
  {
   "cell_type": "code",
   "execution_count": 43,
   "metadata": {},
   "outputs": [
    {
     "data": {
      "text/html": [
       "<div>\n",
       "<style scoped>\n",
       "    .dataframe tbody tr th:only-of-type {\n",
       "        vertical-align: middle;\n",
       "    }\n",
       "\n",
       "    .dataframe tbody tr th {\n",
       "        vertical-align: top;\n",
       "    }\n",
       "\n",
       "    .dataframe thead th {\n",
       "        text-align: right;\n",
       "    }\n",
       "</style>\n",
       "<table border=\"1\" class=\"dataframe\">\n",
       "  <thead>\n",
       "    <tr style=\"text-align: right;\">\n",
       "      <th></th>\n",
       "      <th>role</th>\n",
       "      <th>champion</th>\n",
       "      <th>winrate</th>\n",
       "      <th>games_played</th>\n",
       "    </tr>\n",
       "  </thead>\n",
       "  <tbody>\n",
       "    <tr>\n",
       "      <th>0</th>\n",
       "      <td>jungler</td>\n",
       "      <td>Lillia</td>\n",
       "      <td>21.71</td>\n",
       "      <td>737</td>\n",
       "    </tr>\n",
       "    <tr>\n",
       "      <th>1</th>\n",
       "      <td>jungler</td>\n",
       "      <td>Volibear</td>\n",
       "      <td>51.41</td>\n",
       "      <td>817</td>\n",
       "    </tr>\n",
       "    <tr>\n",
       "      <th>2</th>\n",
       "      <td>jungler</td>\n",
       "      <td>Sejuani</td>\n",
       "      <td>49.81</td>\n",
       "      <td>269</td>\n",
       "    </tr>\n",
       "    <tr>\n",
       "      <th>3</th>\n",
       "      <td>jungler</td>\n",
       "      <td>Poppy</td>\n",
       "      <td>53.10</td>\n",
       "      <td>403</td>\n",
       "    </tr>\n",
       "    <tr>\n",
       "      <th>4</th>\n",
       "      <td>jungler</td>\n",
       "      <td>Ekko</td>\n",
       "      <td>49.91</td>\n",
       "      <td>587</td>\n",
       "    </tr>\n",
       "  </tbody>\n",
       "</table>\n",
       "</div>"
      ],
      "text/plain": [
       "      role  champion  winrate  games_played\n",
       "0  jungler    Lillia    21.71           737\n",
       "1  jungler  Volibear    51.41           817\n",
       "2  jungler   Sejuani    49.81           269\n",
       "3  jungler     Poppy    53.10           403\n",
       "4  jungler      Ekko    49.91           587"
      ]
     },
     "execution_count": 43,
     "metadata": {},
     "output_type": "execute_result"
    }
   ],
   "source": [
    "data_transformed['winrate'] = data_transformed['winrate']*100\n",
    "data_transformed.head()"
   ]
  },
  {
   "cell_type": "markdown",
   "metadata": {},
   "source": [
    "It is hard to believe that Lillia has so low winrate! I love that champ. Is it possible that she got so hard nerfs last patch so she is actually tht weak right now?\n",
    "IF so - its good thing I decided to check instead of blindly playing her in clash but that number seems so low so almost impossible. Lets make sure it is not some problem with our calculations. \n",
    "\n",
    "### Lillia test case"
   ]
  },
  {
   "cell_type": "code",
   "execution_count": 27,
   "metadata": {},
   "outputs": [
    {
     "data": {
      "text/html": [
       "<div>\n",
       "<style scoped>\n",
       "    .dataframe tbody tr th:only-of-type {\n",
       "        vertical-align: middle;\n",
       "    }\n",
       "\n",
       "    .dataframe tbody tr th {\n",
       "        vertical-align: top;\n",
       "    }\n",
       "\n",
       "    .dataframe thead th {\n",
       "        text-align: right;\n",
       "    }\n",
       "</style>\n",
       "<table border=\"1\" class=\"dataframe\">\n",
       "  <thead>\n",
       "    <tr style=\"text-align: right;\">\n",
       "      <th></th>\n",
       "      <th>games</th>\n",
       "      <th>have_won</th>\n",
       "    </tr>\n",
       "  </thead>\n",
       "  <tbody>\n",
       "    <tr>\n",
       "      <th>0</th>\n",
       "      <td>577</td>\n",
       "      <td>0</td>\n",
       "    </tr>\n",
       "    <tr>\n",
       "      <th>1</th>\n",
       "      <td>160</td>\n",
       "      <td>1</td>\n",
       "    </tr>\n",
       "  </tbody>\n",
       "</table>\n",
       "</div>"
      ],
      "text/plain": [
       "   games  have_won\n",
       "0    577         0\n",
       "1    160         1"
      ]
     },
     "execution_count": 27,
     "metadata": {},
     "output_type": "execute_result"
    }
   ],
   "source": [
    "lillia = pd.read_sql('''\n",
    "SELECT count(champion) AS games, have_won\n",
    "FROM winrate_data\n",
    "WHERE champion = 'Lillia'\n",
    "GROUP BY have_won;\n",
    "''', main_db\n",
    ")\n",
    "lillia"
   ]
  },
  {
   "cell_type": "markdown",
   "metadata": {},
   "source": [
    "### Test conclusion\n",
    "Unfortunately the initial info was not missleading. Lillia apparently took a huge hit due to recent changes. Sadly as it may be I have to decide not to play her this weekend. "
   ]
  },
  {
   "cell_type": "markdown",
   "metadata": {},
   "source": [
    "PS. That could have been obviously easily achieved directly in SQL using nested query (as displayed below) but I elected to stick to pandas for easier step by step explanation of my logic. "
   ]
  },
  {
   "cell_type": "code",
   "execution_count": null,
   "metadata": {
    "vscode": {
     "languageId": "sql"
    }
   },
   "outputs": [],
   "source": [
    "SELECT w.*, p.role\n",
    "FROM (SELECT c.name as champion, ROUND(AVG(w.have_won)*100, 2) AS winrate, count(w.champion) as games_played\n",
    "    FROM winrate_data w\n",
    "    LEFT JOIN champions c\n",
    "    ON w.champion = c.id\n",
    "    WHERE champion_name is not null\n",
    "    GROUP BY c.name) w\n",
    "LEFT JOIN champion_pool p\n",
    "ON w.champion = p.champion\n",
    "WHERE p.role is not null;"
   ]
  },
  {
   "cell_type": "code",
   "execution_count": 54,
   "metadata": {},
   "outputs": [],
   "source": [
    "data_colors = data_transformed.sort_values(by='champion')\n",
    "\n",
    "colors = sns.color_palette('rocket', data_colors['champion'].nunique()).as_hex()\n",
    "color_map = dict(zip(data_colors['champion'].unique(), colors))"
   ]
  },
  {
   "cell_type": "code",
   "execution_count": 56,
   "metadata": {},
   "outputs": [],
   "source": [
    "from plotly.subplots import make_subplots\n",
    "\n",
    "def create_role_plots(df, role_order, plot_height=300, plot_width=800):\n",
    "    fig = make_subplots(\n",
    "        rows=len(role_order), cols=1,\n",
    "        subplot_titles=[f\"{role.capitalize()}\" for role in role_order],\n",
    "        vertical_spacing=0.06\n",
    "    )\n",
    "\n",
    "    for i, role in enumerate(role_order):\n",
    "        df_role = df[df['role'] == role]\n",
    "        fig.add_trace(\n",
    "            go.Bar(\n",
    "                x=df_role['champion'],\n",
    "                y=df_role['winrate'],\n",
    "                marker_color=[color_map[champ] for champ in df_role['champion']],\n",
    "                name=role\n",
    "            ),\n",
    "            row=i+1, col=1\n",
    "        )\n",
    "        # Add dashed line at 50% win rate\n",
    "        fig.add_shape(\n",
    "            type='line',\n",
    "            x0=-0.5, x1=len(df_role['champion'].unique())-0.5,\n",
    "            y0=50.0, y1=50.0,\n",
    "            line=dict(\n",
    "                color='Black',\n",
    "                width=2,\n",
    "                dash='dashdot',\n",
    "            ),\n",
    "            row=i+1, col=1\n",
    "        )\n",
    "\n",
    "    fig.update_layout(\n",
    "        title_text='Champion Win Rates by Role',\n",
    "        height=plot_height * len(role_order),  # Adjust the height based on the number of roles\n",
    "        width=plot_width,\n",
    "        plot_bgcolor = '#F5E9DA', \n",
    "        paper_bgcolor ='#F5E9DA',\n",
    "        showlegend=False, \n",
    "        font=dict(\n",
    "            family='Roboto',\n",
    "            size = 16\n",
    "        )\n",
    "    )\n",
    "\n",
    "    fig.update_yaxes(title_text='Win Rate (%)', range=[0, 100.00], showgrid = False)\n",
    "    fig.update_xaxes(title_text='Champion')\n",
    "\n",
    "    return fig"
   ]
  },
  {
   "cell_type": "code",
   "execution_count": 57,
   "metadata": {},
   "outputs": [
    {
     "data": {
      "application/vnd.plotly.v1+json": {
       "config": {
        "plotlyServerURL": "https://plot.ly"
       },
       "data": [
        {
         "marker": {
          "color": [
           "#a11a5b",
           "#c21753",
           "#de2e44",
           "#901d5b",
           "#2d1738",
           "#f8dcc7"
          ]
         },
         "name": "top",
         "type": "bar",
         "x": [
          "Mordekaiser",
          "Olaf",
          "Ornn",
          "Maokai",
          "Gwen",
          "Volibear"
         ],
         "xaxis": "x",
         "y": [
          51.790000000000006,
          51.18000000000001,
          51.980000000000004,
          50.81,
          50.12,
          51.41
         ],
         "yaxis": "y"
        },
        {
         "marker": {
          "color": [
           "#6d1f56",
           "#f8dcc7",
           "#f47a54",
           "#e83f3f",
           "#1e122d",
           "#3c1a42"
          ]
         },
         "name": "jungler",
         "type": "bar",
         "x": [
          "Lillia",
          "Volibear",
          "Sejuani",
          "Poppy",
          "Ekko",
          "Hecarim"
         ],
         "xaxis": "x2",
         "y": [
          21.709999999999997,
          51.41,
          49.81,
          53.1,
          49.91,
          51.64
         ],
         "yaxis": "y2"
        },
        {
         "marker": {
          "color": [
           "#f58b63",
           "#f7cdb1",
           "#4c1d4b",
           "#f6be9b",
           "#d2204c"
          ]
         },
         "name": "mid",
         "type": "bar",
         "x": [
          "Seraphine",
          "Syndra",
          "Jayce",
          "Sylas",
          "Orianna"
         ],
         "xaxis": "x3",
         "y": [
          49.1,
          51.42,
          42.75,
          48.96,
          48.59
         ],
         "yaxis": "y3"
        },
        {
         "marker": {
          "color": [
           "#f26747",
           "#5c1e51",
           "#100b23",
           "#f69c73"
          ]
         },
         "name": "adc",
         "type": "bar",
         "x": [
          "Samira",
          "Jinx",
          "Draven",
          "Sivir"
         ],
         "xaxis": "x4",
         "y": [
          45.21,
          50.44,
          47.77,
          52.59
         ],
         "yaxis": "y4"
        },
        {
         "marker": {
          "color": [
           "#7d1f5a",
           "#f6ae87",
           "#b21758",
           "#ee523f",
           "#e83f3f",
           "#901d5b"
          ]
         },
         "name": "support",
         "type": "bar",
         "x": [
          "Lulu",
          "Soraka",
          "Nautilus",
          "Pyke",
          "Poppy",
          "Maokai"
         ],
         "xaxis": "x5",
         "y": [
          53.47,
          52.900000000000006,
          46.79,
          27.02,
          53.1,
          50.81
         ],
         "yaxis": "y5"
        }
       ],
       "layout": {
        "annotations": [
         {
          "font": {
           "size": 16
          },
          "showarrow": false,
          "text": "Top",
          "x": 0.5,
          "xanchor": "center",
          "xref": "paper",
          "y": 1,
          "yanchor": "bottom",
          "yref": "paper"
         },
         {
          "font": {
           "size": 16
          },
          "showarrow": false,
          "text": "Jungler",
          "x": 0.5,
          "xanchor": "center",
          "xref": "paper",
          "y": 0.7879999999999999,
          "yanchor": "bottom",
          "yref": "paper"
         },
         {
          "font": {
           "size": 16
          },
          "showarrow": false,
          "text": "Mid",
          "x": 0.5,
          "xanchor": "center",
          "xref": "paper",
          "y": 0.576,
          "yanchor": "bottom",
          "yref": "paper"
         },
         {
          "font": {
           "size": 16
          },
          "showarrow": false,
          "text": "Adc",
          "x": 0.5,
          "xanchor": "center",
          "xref": "paper",
          "y": 0.364,
          "yanchor": "bottom",
          "yref": "paper"
         },
         {
          "font": {
           "size": 16
          },
          "showarrow": false,
          "text": "Support",
          "x": 0.5,
          "xanchor": "center",
          "xref": "paper",
          "y": 0.152,
          "yanchor": "bottom",
          "yref": "paper"
         }
        ],
        "font": {
         "family": "Roboto",
         "size": 16
        },
        "height": 2500,
        "paper_bgcolor": "#F5E9DA",
        "plot_bgcolor": "#F5E9DA",
        "shapes": [
         {
          "line": {
           "color": "Black",
           "dash": "dashdot",
           "width": 2
          },
          "type": "line",
          "x0": -0.5,
          "x1": 5.5,
          "xref": "x",
          "y0": 50,
          "y1": 50,
          "yref": "y"
         },
         {
          "line": {
           "color": "Black",
           "dash": "dashdot",
           "width": 2
          },
          "type": "line",
          "x0": -0.5,
          "x1": 5.5,
          "xref": "x2",
          "y0": 50,
          "y1": 50,
          "yref": "y2"
         },
         {
          "line": {
           "color": "Black",
           "dash": "dashdot",
           "width": 2
          },
          "type": "line",
          "x0": -0.5,
          "x1": 4.5,
          "xref": "x3",
          "y0": 50,
          "y1": 50,
          "yref": "y3"
         },
         {
          "line": {
           "color": "Black",
           "dash": "dashdot",
           "width": 2
          },
          "type": "line",
          "x0": -0.5,
          "x1": 3.5,
          "xref": "x4",
          "y0": 50,
          "y1": 50,
          "yref": "y4"
         },
         {
          "line": {
           "color": "Black",
           "dash": "dashdot",
           "width": 2
          },
          "type": "line",
          "x0": -0.5,
          "x1": 5.5,
          "xref": "x5",
          "y0": 50,
          "y1": 50,
          "yref": "y5"
         }
        ],
        "showlegend": false,
        "template": {
         "data": {
          "bar": [
           {
            "error_x": {
             "color": "#2a3f5f"
            },
            "error_y": {
             "color": "#2a3f5f"
            },
            "marker": {
             "line": {
              "color": "#E5ECF6",
              "width": 0.5
             },
             "pattern": {
              "fillmode": "overlay",
              "size": 10,
              "solidity": 0.2
             }
            },
            "type": "bar"
           }
          ],
          "barpolar": [
           {
            "marker": {
             "line": {
              "color": "#E5ECF6",
              "width": 0.5
             },
             "pattern": {
              "fillmode": "overlay",
              "size": 10,
              "solidity": 0.2
             }
            },
            "type": "barpolar"
           }
          ],
          "carpet": [
           {
            "aaxis": {
             "endlinecolor": "#2a3f5f",
             "gridcolor": "white",
             "linecolor": "white",
             "minorgridcolor": "white",
             "startlinecolor": "#2a3f5f"
            },
            "baxis": {
             "endlinecolor": "#2a3f5f",
             "gridcolor": "white",
             "linecolor": "white",
             "minorgridcolor": "white",
             "startlinecolor": "#2a3f5f"
            },
            "type": "carpet"
           }
          ],
          "choropleth": [
           {
            "colorbar": {
             "outlinewidth": 0,
             "ticks": ""
            },
            "type": "choropleth"
           }
          ],
          "contour": [
           {
            "colorbar": {
             "outlinewidth": 0,
             "ticks": ""
            },
            "colorscale": [
             [
              0,
              "#0d0887"
             ],
             [
              0.1111111111111111,
              "#46039f"
             ],
             [
              0.2222222222222222,
              "#7201a8"
             ],
             [
              0.3333333333333333,
              "#9c179e"
             ],
             [
              0.4444444444444444,
              "#bd3786"
             ],
             [
              0.5555555555555556,
              "#d8576b"
             ],
             [
              0.6666666666666666,
              "#ed7953"
             ],
             [
              0.7777777777777778,
              "#fb9f3a"
             ],
             [
              0.8888888888888888,
              "#fdca26"
             ],
             [
              1,
              "#f0f921"
             ]
            ],
            "type": "contour"
           }
          ],
          "contourcarpet": [
           {
            "colorbar": {
             "outlinewidth": 0,
             "ticks": ""
            },
            "type": "contourcarpet"
           }
          ],
          "heatmap": [
           {
            "colorbar": {
             "outlinewidth": 0,
             "ticks": ""
            },
            "colorscale": [
             [
              0,
              "#0d0887"
             ],
             [
              0.1111111111111111,
              "#46039f"
             ],
             [
              0.2222222222222222,
              "#7201a8"
             ],
             [
              0.3333333333333333,
              "#9c179e"
             ],
             [
              0.4444444444444444,
              "#bd3786"
             ],
             [
              0.5555555555555556,
              "#d8576b"
             ],
             [
              0.6666666666666666,
              "#ed7953"
             ],
             [
              0.7777777777777778,
              "#fb9f3a"
             ],
             [
              0.8888888888888888,
              "#fdca26"
             ],
             [
              1,
              "#f0f921"
             ]
            ],
            "type": "heatmap"
           }
          ],
          "heatmapgl": [
           {
            "colorbar": {
             "outlinewidth": 0,
             "ticks": ""
            },
            "colorscale": [
             [
              0,
              "#0d0887"
             ],
             [
              0.1111111111111111,
              "#46039f"
             ],
             [
              0.2222222222222222,
              "#7201a8"
             ],
             [
              0.3333333333333333,
              "#9c179e"
             ],
             [
              0.4444444444444444,
              "#bd3786"
             ],
             [
              0.5555555555555556,
              "#d8576b"
             ],
             [
              0.6666666666666666,
              "#ed7953"
             ],
             [
              0.7777777777777778,
              "#fb9f3a"
             ],
             [
              0.8888888888888888,
              "#fdca26"
             ],
             [
              1,
              "#f0f921"
             ]
            ],
            "type": "heatmapgl"
           }
          ],
          "histogram": [
           {
            "marker": {
             "pattern": {
              "fillmode": "overlay",
              "size": 10,
              "solidity": 0.2
             }
            },
            "type": "histogram"
           }
          ],
          "histogram2d": [
           {
            "colorbar": {
             "outlinewidth": 0,
             "ticks": ""
            },
            "colorscale": [
             [
              0,
              "#0d0887"
             ],
             [
              0.1111111111111111,
              "#46039f"
             ],
             [
              0.2222222222222222,
              "#7201a8"
             ],
             [
              0.3333333333333333,
              "#9c179e"
             ],
             [
              0.4444444444444444,
              "#bd3786"
             ],
             [
              0.5555555555555556,
              "#d8576b"
             ],
             [
              0.6666666666666666,
              "#ed7953"
             ],
             [
              0.7777777777777778,
              "#fb9f3a"
             ],
             [
              0.8888888888888888,
              "#fdca26"
             ],
             [
              1,
              "#f0f921"
             ]
            ],
            "type": "histogram2d"
           }
          ],
          "histogram2dcontour": [
           {
            "colorbar": {
             "outlinewidth": 0,
             "ticks": ""
            },
            "colorscale": [
             [
              0,
              "#0d0887"
             ],
             [
              0.1111111111111111,
              "#46039f"
             ],
             [
              0.2222222222222222,
              "#7201a8"
             ],
             [
              0.3333333333333333,
              "#9c179e"
             ],
             [
              0.4444444444444444,
              "#bd3786"
             ],
             [
              0.5555555555555556,
              "#d8576b"
             ],
             [
              0.6666666666666666,
              "#ed7953"
             ],
             [
              0.7777777777777778,
              "#fb9f3a"
             ],
             [
              0.8888888888888888,
              "#fdca26"
             ],
             [
              1,
              "#f0f921"
             ]
            ],
            "type": "histogram2dcontour"
           }
          ],
          "mesh3d": [
           {
            "colorbar": {
             "outlinewidth": 0,
             "ticks": ""
            },
            "type": "mesh3d"
           }
          ],
          "parcoords": [
           {
            "line": {
             "colorbar": {
              "outlinewidth": 0,
              "ticks": ""
             }
            },
            "type": "parcoords"
           }
          ],
          "pie": [
           {
            "automargin": true,
            "type": "pie"
           }
          ],
          "scatter": [
           {
            "fillpattern": {
             "fillmode": "overlay",
             "size": 10,
             "solidity": 0.2
            },
            "type": "scatter"
           }
          ],
          "scatter3d": [
           {
            "line": {
             "colorbar": {
              "outlinewidth": 0,
              "ticks": ""
             }
            },
            "marker": {
             "colorbar": {
              "outlinewidth": 0,
              "ticks": ""
             }
            },
            "type": "scatter3d"
           }
          ],
          "scattercarpet": [
           {
            "marker": {
             "colorbar": {
              "outlinewidth": 0,
              "ticks": ""
             }
            },
            "type": "scattercarpet"
           }
          ],
          "scattergeo": [
           {
            "marker": {
             "colorbar": {
              "outlinewidth": 0,
              "ticks": ""
             }
            },
            "type": "scattergeo"
           }
          ],
          "scattergl": [
           {
            "marker": {
             "colorbar": {
              "outlinewidth": 0,
              "ticks": ""
             }
            },
            "type": "scattergl"
           }
          ],
          "scattermapbox": [
           {
            "marker": {
             "colorbar": {
              "outlinewidth": 0,
              "ticks": ""
             }
            },
            "type": "scattermapbox"
           }
          ],
          "scatterpolar": [
           {
            "marker": {
             "colorbar": {
              "outlinewidth": 0,
              "ticks": ""
             }
            },
            "type": "scatterpolar"
           }
          ],
          "scatterpolargl": [
           {
            "marker": {
             "colorbar": {
              "outlinewidth": 0,
              "ticks": ""
             }
            },
            "type": "scatterpolargl"
           }
          ],
          "scatterternary": [
           {
            "marker": {
             "colorbar": {
              "outlinewidth": 0,
              "ticks": ""
             }
            },
            "type": "scatterternary"
           }
          ],
          "surface": [
           {
            "colorbar": {
             "outlinewidth": 0,
             "ticks": ""
            },
            "colorscale": [
             [
              0,
              "#0d0887"
             ],
             [
              0.1111111111111111,
              "#46039f"
             ],
             [
              0.2222222222222222,
              "#7201a8"
             ],
             [
              0.3333333333333333,
              "#9c179e"
             ],
             [
              0.4444444444444444,
              "#bd3786"
             ],
             [
              0.5555555555555556,
              "#d8576b"
             ],
             [
              0.6666666666666666,
              "#ed7953"
             ],
             [
              0.7777777777777778,
              "#fb9f3a"
             ],
             [
              0.8888888888888888,
              "#fdca26"
             ],
             [
              1,
              "#f0f921"
             ]
            ],
            "type": "surface"
           }
          ],
          "table": [
           {
            "cells": {
             "fill": {
              "color": "#EBF0F8"
             },
             "line": {
              "color": "white"
             }
            },
            "header": {
             "fill": {
              "color": "#C8D4E3"
             },
             "line": {
              "color": "white"
             }
            },
            "type": "table"
           }
          ]
         },
         "layout": {
          "annotationdefaults": {
           "arrowcolor": "#2a3f5f",
           "arrowhead": 0,
           "arrowwidth": 1
          },
          "autotypenumbers": "strict",
          "coloraxis": {
           "colorbar": {
            "outlinewidth": 0,
            "ticks": ""
           }
          },
          "colorscale": {
           "diverging": [
            [
             0,
             "#8e0152"
            ],
            [
             0.1,
             "#c51b7d"
            ],
            [
             0.2,
             "#de77ae"
            ],
            [
             0.3,
             "#f1b6da"
            ],
            [
             0.4,
             "#fde0ef"
            ],
            [
             0.5,
             "#f7f7f7"
            ],
            [
             0.6,
             "#e6f5d0"
            ],
            [
             0.7,
             "#b8e186"
            ],
            [
             0.8,
             "#7fbc41"
            ],
            [
             0.9,
             "#4d9221"
            ],
            [
             1,
             "#276419"
            ]
           ],
           "sequential": [
            [
             0,
             "#0d0887"
            ],
            [
             0.1111111111111111,
             "#46039f"
            ],
            [
             0.2222222222222222,
             "#7201a8"
            ],
            [
             0.3333333333333333,
             "#9c179e"
            ],
            [
             0.4444444444444444,
             "#bd3786"
            ],
            [
             0.5555555555555556,
             "#d8576b"
            ],
            [
             0.6666666666666666,
             "#ed7953"
            ],
            [
             0.7777777777777778,
             "#fb9f3a"
            ],
            [
             0.8888888888888888,
             "#fdca26"
            ],
            [
             1,
             "#f0f921"
            ]
           ],
           "sequentialminus": [
            [
             0,
             "#0d0887"
            ],
            [
             0.1111111111111111,
             "#46039f"
            ],
            [
             0.2222222222222222,
             "#7201a8"
            ],
            [
             0.3333333333333333,
             "#9c179e"
            ],
            [
             0.4444444444444444,
             "#bd3786"
            ],
            [
             0.5555555555555556,
             "#d8576b"
            ],
            [
             0.6666666666666666,
             "#ed7953"
            ],
            [
             0.7777777777777778,
             "#fb9f3a"
            ],
            [
             0.8888888888888888,
             "#fdca26"
            ],
            [
             1,
             "#f0f921"
            ]
           ]
          },
          "colorway": [
           "#636efa",
           "#EF553B",
           "#00cc96",
           "#ab63fa",
           "#FFA15A",
           "#19d3f3",
           "#FF6692",
           "#B6E880",
           "#FF97FF",
           "#FECB52"
          ],
          "font": {
           "color": "#2a3f5f"
          },
          "geo": {
           "bgcolor": "white",
           "lakecolor": "white",
           "landcolor": "#E5ECF6",
           "showlakes": true,
           "showland": true,
           "subunitcolor": "white"
          },
          "hoverlabel": {
           "align": "left"
          },
          "hovermode": "closest",
          "mapbox": {
           "style": "light"
          },
          "paper_bgcolor": "white",
          "plot_bgcolor": "#E5ECF6",
          "polar": {
           "angularaxis": {
            "gridcolor": "white",
            "linecolor": "white",
            "ticks": ""
           },
           "bgcolor": "#E5ECF6",
           "radialaxis": {
            "gridcolor": "white",
            "linecolor": "white",
            "ticks": ""
           }
          },
          "scene": {
           "xaxis": {
            "backgroundcolor": "#E5ECF6",
            "gridcolor": "white",
            "gridwidth": 2,
            "linecolor": "white",
            "showbackground": true,
            "ticks": "",
            "zerolinecolor": "white"
           },
           "yaxis": {
            "backgroundcolor": "#E5ECF6",
            "gridcolor": "white",
            "gridwidth": 2,
            "linecolor": "white",
            "showbackground": true,
            "ticks": "",
            "zerolinecolor": "white"
           },
           "zaxis": {
            "backgroundcolor": "#E5ECF6",
            "gridcolor": "white",
            "gridwidth": 2,
            "linecolor": "white",
            "showbackground": true,
            "ticks": "",
            "zerolinecolor": "white"
           }
          },
          "shapedefaults": {
           "line": {
            "color": "#2a3f5f"
           }
          },
          "ternary": {
           "aaxis": {
            "gridcolor": "white",
            "linecolor": "white",
            "ticks": ""
           },
           "baxis": {
            "gridcolor": "white",
            "linecolor": "white",
            "ticks": ""
           },
           "bgcolor": "#E5ECF6",
           "caxis": {
            "gridcolor": "white",
            "linecolor": "white",
            "ticks": ""
           }
          },
          "title": {
           "x": 0.05
          },
          "xaxis": {
           "automargin": true,
           "gridcolor": "white",
           "linecolor": "white",
           "ticks": "",
           "title": {
            "standoff": 15
           },
           "zerolinecolor": "white",
           "zerolinewidth": 2
          },
          "yaxis": {
           "automargin": true,
           "gridcolor": "white",
           "linecolor": "white",
           "ticks": "",
           "title": {
            "standoff": 15
           },
           "zerolinecolor": "white",
           "zerolinewidth": 2
          }
         }
        },
        "title": {
         "text": "Champion Win Rates by Role"
        },
        "width": 1200,
        "xaxis": {
         "anchor": "y",
         "domain": [
          0,
          1
         ],
         "title": {
          "text": "Champion"
         }
        },
        "xaxis2": {
         "anchor": "y2",
         "domain": [
          0,
          1
         ],
         "title": {
          "text": "Champion"
         }
        },
        "xaxis3": {
         "anchor": "y3",
         "domain": [
          0,
          1
         ],
         "title": {
          "text": "Champion"
         }
        },
        "xaxis4": {
         "anchor": "y4",
         "domain": [
          0,
          1
         ],
         "title": {
          "text": "Champion"
         }
        },
        "xaxis5": {
         "anchor": "y5",
         "domain": [
          0,
          1
         ],
         "title": {
          "text": "Champion"
         }
        },
        "yaxis": {
         "anchor": "x",
         "domain": [
          0.848,
          1
         ],
         "range": [
          0,
          100
         ],
         "showgrid": false,
         "title": {
          "text": "Win Rate (%)"
         }
        },
        "yaxis2": {
         "anchor": "x2",
         "domain": [
          0.6359999999999999,
          0.7879999999999999
         ],
         "range": [
          0,
          100
         ],
         "showgrid": false,
         "title": {
          "text": "Win Rate (%)"
         }
        },
        "yaxis3": {
         "anchor": "x3",
         "domain": [
          0.424,
          0.576
         ],
         "range": [
          0,
          100
         ],
         "showgrid": false,
         "title": {
          "text": "Win Rate (%)"
         }
        },
        "yaxis4": {
         "anchor": "x4",
         "domain": [
          0.212,
          0.364
         ],
         "range": [
          0,
          100
         ],
         "showgrid": false,
         "title": {
          "text": "Win Rate (%)"
         }
        },
        "yaxis5": {
         "anchor": "x5",
         "domain": [
          0,
          0.152
         ],
         "range": [
          0,
          100
         ],
         "showgrid": false,
         "title": {
          "text": "Win Rate (%)"
         }
        }
       }
      }
     },
     "metadata": {},
     "output_type": "display_data"
    }
   ],
   "source": [
    "role_order = ['top', 'jungler', 'mid', 'adc' ,'support']\n",
    "fig = create_role_plots(data_transformed, role_order, plot_height=500, plot_width=1200)\n",
    "fig.show()"
   ]
  }
 ],
 "metadata": {
  "kernelspec": {
   "display_name": ".venv",
   "language": "python",
   "name": "python3"
  },
  "language_info": {
   "codemirror_mode": {
    "name": "ipython",
    "version": 3
   },
   "file_extension": ".py",
   "mimetype": "text/x-python",
   "name": "python",
   "nbconvert_exporter": "python",
   "pygments_lexer": "ipython3",
   "version": "3.8.10"
  }
 },
 "nbformat": 4,
 "nbformat_minor": 2
}
