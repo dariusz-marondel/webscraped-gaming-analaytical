{
 "cells": [
  {
   "cell_type": "markdown",
   "metadata": {},
   "source": [
    "# Characters to chose and that to avoid\n",
    "\n",
    "Having established what are our respective champion pools and loaded them into a table I can begin the analysis from simply determining our champion winrate. It will give my friends and myself a reqlity check on which of our favorite champions are currently the best choice. Fan-favorite statistic is a specific's champion win rate meaning percentage of game swon with that champion in relation to all games played by that champion. With hundred of thousands of League's players playing every day there is a good chance that after only a few days we have enough data to adapt an assumption that winrate does not occur due to some random events but rather a systematic effect of changes made by game's development team that adjust champions and items in game. \n",
    "\n",
    "## Data used in the notebook\n",
    "\n",
    "In this analysis we use data from real matches in ranked soloq leagues from Platinum IV to Diamond I. Data is pulled from Riot Developer API endpoints using a development key. It was achieved by pulling data from various endpoints, tranforming their responses and based on that reposonses I have been able to create a table of random 10,000 games played since last patch (changes made to game that can potentialy impact champion winrate). All technical are desribed in comments of files contained in the directory `api_calls`. \n",
    "\n",
    "That resulted in a table of 100,000 records from those 10,000 games. Each record represents a champion played suplemented by information on whether game has been won by the champion or lost. Based on that information we will be able to calculate some summary statistics and \n",
    "\n",
    "## Package import\n",
    "Import of all custom function packages that will be used in this notebook"
   ]
  },
  {
   "cell_type": "code",
   "execution_count": 1,
   "metadata": {},
   "outputs": [],
   "source": [
    "import pandas as pd\n",
    "import plotly.graph_objects as go\n",
    "import seaborn as sns\n",
    "import sqlite3\n"
   ]
  },
  {
   "cell_type": "markdown",
   "metadata": {},
   "source": [
    "## Load and transform data\n",
    "Data extracted from official game developer can now be load into pandas dataframes (tables if you wish) to be used in my calculations. But first we need a connection to previously created database in order to access a data stored in tables. \n",
    "\n",
    "### Data Cleansing \n",
    "After some background analytics I have noticed that .json file was impaired. Two people must have make a simple mistake in a champion's name. Very classic error in data prepared by a person. Let's simply correct those character name. \n"
   ]
  },
  {
   "cell_type": "code",
   "execution_count": null,
   "metadata": {
    "vscode": {
     "languageId": "sql"
    }
   },
   "outputs": [],
   "source": [
    "UPDATE champion_pool\n",
    "SET champion = CASE\n",
    "    WHEN champion = 'Nautilus' THEN 'Nautilius'\n",
    "    WHEN champion = 'Lillia' THEN 'Lilia'\n",
    "    ELSE champion\n",
    "END;"
   ]
  },
  {
   "cell_type": "markdown",
   "metadata": {},
   "source": [
    "\n",
    "### Connect to a database\n",
    "I order to allow interaction between Python and our database we need to establish a connection and create a cursor object. "
   ]
  },
  {
   "cell_type": "code",
   "execution_count": 2,
   "metadata": {},
   "outputs": [],
   "source": [
    "main_db = sqlite3.connect(r'/Users/amberlights/Repositories/simple-lol-stats/sqlite_database/project_database.db')\n",
    "cursor = main_db.cursor()"
   ]
  },
  {
   "cell_type": "markdown",
   "metadata": {},
   "source": [
    "### Summary Statistics\n",
    "\n",
    "Let's calculate them directly in sql as a gigachad data analyst. "
   ]
  },
  {
   "cell_type": "code",
   "execution_count": 3,
   "metadata": {},
   "outputs": [],
   "source": [
    "highest_winrate_10 = pd.read_sql('''\n",
    "SELECT champion, ROUND(AVG(have_won), 2) AS win_rate, count(champion) as games_played\n",
    "FROM winrate_data\n",
    "GROUP BY champion\n",
    "ORDER BY AVG(have_won) DESC\n",
    "LIMIT 10;\n",
    "''', main_db)\n",
    "\n",
    "highest_play_count_10 = pd.read_sql('''\n",
    "SELECT champion, ROUND(AVG(have_won), 2) AS win_rate, count(champion) as games_played\n",
    "FROM winrate_data\n",
    "GROUP BY champion\n",
    "ORDER BY count(champion) DESC\n",
    "LIMIT 10;\n",
    "''', main_db)"
   ]
  },
  {
   "cell_type": "markdown",
   "metadata": {},
   "source": [
    "and display using Jupyter's wonderful possibility of not using 'print()'\n",
    "\n",
    "### 10 Most frequently played champions"
   ]
  },
  {
   "cell_type": "code",
   "execution_count": 4,
   "metadata": {},
   "outputs": [
    {
     "data": {
      "text/html": [
       "<div>\n",
       "<style scoped>\n",
       "    .dataframe tbody tr th:only-of-type {\n",
       "        vertical-align: middle;\n",
       "    }\n",
       "\n",
       "    .dataframe tbody tr th {\n",
       "        vertical-align: top;\n",
       "    }\n",
       "\n",
       "    .dataframe thead th {\n",
       "        text-align: right;\n",
       "    }\n",
       "</style>\n",
       "<table border=\"1\" class=\"dataframe\">\n",
       "  <thead>\n",
       "    <tr style=\"text-align: right;\">\n",
       "      <th></th>\n",
       "      <th>champion</th>\n",
       "      <th>win_rate</th>\n",
       "      <th>games_played</th>\n",
       "    </tr>\n",
       "  </thead>\n",
       "  <tbody>\n",
       "    <tr>\n",
       "      <th>0</th>\n",
       "      <td>Jinx</td>\n",
       "      <td>0.50</td>\n",
       "      <td>2034</td>\n",
       "    </tr>\n",
       "    <tr>\n",
       "      <th>1</th>\n",
       "      <td>Caitlyn</td>\n",
       "      <td>0.51</td>\n",
       "      <td>2025</td>\n",
       "    </tr>\n",
       "    <tr>\n",
       "      <th>2</th>\n",
       "      <td>Lux</td>\n",
       "      <td>0.61</td>\n",
       "      <td>2012</td>\n",
       "    </tr>\n",
       "    <tr>\n",
       "      <th>3</th>\n",
       "      <td>MonkeyKing</td>\n",
       "      <td>0.61</td>\n",
       "      <td>1940</td>\n",
       "    </tr>\n",
       "    <tr>\n",
       "      <th>4</th>\n",
       "      <td>Lulu</td>\n",
       "      <td>0.53</td>\n",
       "      <td>1743</td>\n",
       "    </tr>\n",
       "    <tr>\n",
       "      <th>5</th>\n",
       "      <td>MissFortune</td>\n",
       "      <td>0.52</td>\n",
       "      <td>1557</td>\n",
       "    </tr>\n",
       "    <tr>\n",
       "      <th>6</th>\n",
       "      <td>Jhin</td>\n",
       "      <td>0.48</td>\n",
       "      <td>1547</td>\n",
       "    </tr>\n",
       "    <tr>\n",
       "      <th>7</th>\n",
       "      <td>Viego</td>\n",
       "      <td>0.52</td>\n",
       "      <td>1462</td>\n",
       "    </tr>\n",
       "    <tr>\n",
       "      <th>8</th>\n",
       "      <td>TahmKench</td>\n",
       "      <td>0.35</td>\n",
       "      <td>1420</td>\n",
       "    </tr>\n",
       "    <tr>\n",
       "      <th>9</th>\n",
       "      <td>Nami</td>\n",
       "      <td>0.52</td>\n",
       "      <td>1397</td>\n",
       "    </tr>\n",
       "  </tbody>\n",
       "</table>\n",
       "</div>"
      ],
      "text/plain": [
       "      champion  win_rate  games_played\n",
       "0         Jinx      0.50          2034\n",
       "1      Caitlyn      0.51          2025\n",
       "2          Lux      0.61          2012\n",
       "3   MonkeyKing      0.61          1940\n",
       "4         Lulu      0.53          1743\n",
       "5  MissFortune      0.52          1557\n",
       "6         Jhin      0.48          1547\n",
       "7        Viego      0.52          1462\n",
       "8    TahmKench      0.35          1420\n",
       "9         Nami      0.52          1397"
      ]
     },
     "execution_count": 4,
     "metadata": {},
     "output_type": "execute_result"
    }
   ],
   "source": [
    "highest_play_count_10"
   ]
  },
  {
   "cell_type": "markdown",
   "metadata": {},
   "source": [
    "### 10 Champions with the highest winrate"
   ]
  },
  {
   "cell_type": "code",
   "execution_count": 5,
   "metadata": {},
   "outputs": [
    {
     "data": {
      "text/html": [
       "<div>\n",
       "<style scoped>\n",
       "    .dataframe tbody tr th:only-of-type {\n",
       "        vertical-align: middle;\n",
       "    }\n",
       "\n",
       "    .dataframe tbody tr th {\n",
       "        vertical-align: top;\n",
       "    }\n",
       "\n",
       "    .dataframe thead th {\n",
       "        text-align: right;\n",
       "    }\n",
       "</style>\n",
       "<table border=\"1\" class=\"dataframe\">\n",
       "  <thead>\n",
       "    <tr style=\"text-align: right;\">\n",
       "      <th></th>\n",
       "      <th>champion</th>\n",
       "      <th>win_rate</th>\n",
       "      <th>games_played</th>\n",
       "    </tr>\n",
       "  </thead>\n",
       "  <tbody>\n",
       "    <tr>\n",
       "      <th>0</th>\n",
       "      <td>Sona</td>\n",
       "      <td>0.79</td>\n",
       "      <td>679</td>\n",
       "    </tr>\n",
       "    <tr>\n",
       "      <th>1</th>\n",
       "      <td>Chogath</td>\n",
       "      <td>0.69</td>\n",
       "      <td>1144</td>\n",
       "    </tr>\n",
       "    <tr>\n",
       "      <th>2</th>\n",
       "      <td>Vayne</td>\n",
       "      <td>0.68</td>\n",
       "      <td>1269</td>\n",
       "    </tr>\n",
       "    <tr>\n",
       "      <th>3</th>\n",
       "      <td>MonkeyKing</td>\n",
       "      <td>0.61</td>\n",
       "      <td>1940</td>\n",
       "    </tr>\n",
       "    <tr>\n",
       "      <th>4</th>\n",
       "      <td>Lux</td>\n",
       "      <td>0.61</td>\n",
       "      <td>2012</td>\n",
       "    </tr>\n",
       "    <tr>\n",
       "      <th>5</th>\n",
       "      <td>Anivia</td>\n",
       "      <td>0.60</td>\n",
       "      <td>233</td>\n",
       "    </tr>\n",
       "    <tr>\n",
       "      <th>6</th>\n",
       "      <td>Nidalee</td>\n",
       "      <td>0.58</td>\n",
       "      <td>150</td>\n",
       "    </tr>\n",
       "    <tr>\n",
       "      <th>7</th>\n",
       "      <td>Rumble</td>\n",
       "      <td>0.58</td>\n",
       "      <td>119</td>\n",
       "    </tr>\n",
       "    <tr>\n",
       "      <th>8</th>\n",
       "      <td>Singed</td>\n",
       "      <td>0.57</td>\n",
       "      <td>216</td>\n",
       "    </tr>\n",
       "    <tr>\n",
       "      <th>9</th>\n",
       "      <td>RekSai</td>\n",
       "      <td>0.57</td>\n",
       "      <td>139</td>\n",
       "    </tr>\n",
       "  </tbody>\n",
       "</table>\n",
       "</div>"
      ],
      "text/plain": [
       "     champion  win_rate  games_played\n",
       "0        Sona      0.79           679\n",
       "1     Chogath      0.69          1144\n",
       "2       Vayne      0.68          1269\n",
       "3  MonkeyKing      0.61          1940\n",
       "4         Lux      0.61          2012\n",
       "5      Anivia      0.60           233\n",
       "6     Nidalee      0.58           150\n",
       "7      Rumble      0.58           119\n",
       "8      Singed      0.57           216\n",
       "9      RekSai      0.57           139"
      ]
     },
     "execution_count": 5,
     "metadata": {},
     "output_type": "execute_result"
    }
   ],
   "source": [
    "highest_winrate_10"
   ]
  },
  {
   "cell_type": "markdown",
   "metadata": {},
   "source": [
    "## Visualisation\n",
    "After a glimpse of what can we expect in our data let's prepare the actuals that we will use in our exercise. \n",
    "\n",
    "### Data need for plots\n",
    "Data pulled from API representing winrate for every champion played since last patch in ranked games on EUNE server"
   ]
  },
  {
   "cell_type": "code",
   "execution_count": 6,
   "metadata": {},
   "outputs": [],
   "source": [
    "server_winrate = pd.read_sql('''\n",
    "SELECT c.name as champion, ROUND(AVG(w.have_won), 4) AS winrate, count(w.champion) as games_played\n",
    "FROM winrate_data w\n",
    "LEFT JOIN champions c\n",
    "ON w.champion = c.id\n",
    "WHERE champion is not null\n",
    "GROUP BY c.name;\n",
    "''', main_db\n",
    ")"
   ]
  },
  {
   "cell_type": "markdown",
   "metadata": {},
   "source": [
    "Data of Nexus Park Boys team champion pools and roles"
   ]
  },
  {
   "cell_type": "code",
   "execution_count": 7,
   "metadata": {},
   "outputs": [],
   "source": [
    "npb_champion_pool = pd.read_sql('''\n",
    "SELECT role, champion\n",
    "FROM champion_pool\n",
    "''', main_db\n",
    ")"
   ]
  },
  {
   "cell_type": "markdown",
   "metadata": {},
   "source": [
    "### Data transformation\n",
    "\n",
    "Having both sets read as pandas data frames, we can connect them together using left join - meaing that for all data in our champion pool table we will 'add' a data from a `server_winrate` table. "
   ]
  },
  {
   "cell_type": "code",
   "execution_count": 8,
   "metadata": {},
   "outputs": [],
   "source": [
    "data_transformed = pd.merge(npb_champion_pool, server_winrate, on='champion', how='left')"
   ]
  },
  {
   "cell_type": "markdown",
   "metadata": {},
   "source": [
    "now lets change winrate from decimal to percentage"
   ]
  },
  {
   "cell_type": "code",
   "execution_count": 9,
   "metadata": {},
   "outputs": [
    {
     "data": {
      "text/html": [
       "<div>\n",
       "<style scoped>\n",
       "    .dataframe tbody tr th:only-of-type {\n",
       "        vertical-align: middle;\n",
       "    }\n",
       "\n",
       "    .dataframe tbody tr th {\n",
       "        vertical-align: top;\n",
       "    }\n",
       "\n",
       "    .dataframe thead th {\n",
       "        text-align: right;\n",
       "    }\n",
       "</style>\n",
       "<table border=\"1\" class=\"dataframe\">\n",
       "  <thead>\n",
       "    <tr style=\"text-align: right;\">\n",
       "      <th></th>\n",
       "      <th>role</th>\n",
       "      <th>champion</th>\n",
       "      <th>winrate</th>\n",
       "      <th>games_played</th>\n",
       "    </tr>\n",
       "  </thead>\n",
       "  <tbody>\n",
       "    <tr>\n",
       "      <th>0</th>\n",
       "      <td>jungler</td>\n",
       "      <td>Lillia</td>\n",
       "      <td>21.71</td>\n",
       "      <td>737.0</td>\n",
       "    </tr>\n",
       "    <tr>\n",
       "      <th>1</th>\n",
       "      <td>jungler</td>\n",
       "      <td>Volibear</td>\n",
       "      <td>51.41</td>\n",
       "      <td>817.0</td>\n",
       "    </tr>\n",
       "    <tr>\n",
       "      <th>2</th>\n",
       "      <td>jungler</td>\n",
       "      <td>Sejuani</td>\n",
       "      <td>49.81</td>\n",
       "      <td>269.0</td>\n",
       "    </tr>\n",
       "    <tr>\n",
       "      <th>3</th>\n",
       "      <td>jungler</td>\n",
       "      <td>Poppy</td>\n",
       "      <td>53.10</td>\n",
       "      <td>403.0</td>\n",
       "    </tr>\n",
       "    <tr>\n",
       "      <th>4</th>\n",
       "      <td>jungler</td>\n",
       "      <td>Ekko</td>\n",
       "      <td>49.91</td>\n",
       "      <td>587.0</td>\n",
       "    </tr>\n",
       "  </tbody>\n",
       "</table>\n",
       "</div>"
      ],
      "text/plain": [
       "      role  champion  winrate  games_played\n",
       "0  jungler    Lillia    21.71         737.0\n",
       "1  jungler  Volibear    51.41         817.0\n",
       "2  jungler   Sejuani    49.81         269.0\n",
       "3  jungler     Poppy    53.10         403.0\n",
       "4  jungler      Ekko    49.91         587.0"
      ]
     },
     "execution_count": 9,
     "metadata": {},
     "output_type": "execute_result"
    }
   ],
   "source": [
    "data_transformed['winrate'] = data_transformed['winrate']*100\n",
    "data_transformed.head()"
   ]
  },
  {
   "cell_type": "code",
   "execution_count": null,
   "metadata": {
    "vscode": {
     "languageId": "sql"
    }
   },
   "outputs": [],
   "source": [
    "UPDATE champion_pool\n",
    "SET champion = CASE\n",
    "    WHEN champion = 'Nautilus' THEN 'Nautilius'\n",
    "    WHEN champion = 'Lillia' THEN 'Lilia'\n",
    "    ELSE champion\n",
    "END;"
   ]
  },
  {
   "cell_type": "markdown",
   "metadata": {},
   "source": [
    "It is hard to believe that Lillia has so low winrate! I love that champ. Is it possible that she got so hard nerfs last patch so she is actually tht weak right now?\n",
    "IF so - its good thing I decided to check instead of blindly playing her in clash but that number seems so low so almost impossible. Lets make sure it is not some problem with our calculations. \n",
    "\n",
    "### Lillia test case"
   ]
  },
  {
   "cell_type": "code",
   "execution_count": 10,
   "metadata": {},
   "outputs": [
    {
     "data": {
      "text/html": [
       "<div>\n",
       "<style scoped>\n",
       "    .dataframe tbody tr th:only-of-type {\n",
       "        vertical-align: middle;\n",
       "    }\n",
       "\n",
       "    .dataframe tbody tr th {\n",
       "        vertical-align: top;\n",
       "    }\n",
       "\n",
       "    .dataframe thead th {\n",
       "        text-align: right;\n",
       "    }\n",
       "</style>\n",
       "<table border=\"1\" class=\"dataframe\">\n",
       "  <thead>\n",
       "    <tr style=\"text-align: right;\">\n",
       "      <th></th>\n",
       "      <th>games</th>\n",
       "      <th>have_won</th>\n",
       "    </tr>\n",
       "  </thead>\n",
       "  <tbody>\n",
       "    <tr>\n",
       "      <th>0</th>\n",
       "      <td>577</td>\n",
       "      <td>0</td>\n",
       "    </tr>\n",
       "    <tr>\n",
       "      <th>1</th>\n",
       "      <td>160</td>\n",
       "      <td>1</td>\n",
       "    </tr>\n",
       "  </tbody>\n",
       "</table>\n",
       "</div>"
      ],
      "text/plain": [
       "   games  have_won\n",
       "0    577         0\n",
       "1    160         1"
      ]
     },
     "execution_count": 10,
     "metadata": {},
     "output_type": "execute_result"
    }
   ],
   "source": [
    "lillia = pd.read_sql('''\n",
    "SELECT count(champion) AS games, have_won\n",
    "FROM winrate_data\n",
    "WHERE champion = 'Lillia'\n",
    "GROUP BY have_won;\n",
    "''', main_db\n",
    ")\n",
    "lillia"
   ]
  },
  {
   "cell_type": "markdown",
   "metadata": {},
   "source": [
    "### Test conclusion\n",
    "Unfortunately the initial info was not missleading. Lillia apparently took a huge hit due to recent changes. Sadly as it may be I have to decide not to play her this weekend. "
   ]
  },
  {
   "cell_type": "markdown",
   "metadata": {},
   "source": [
    "PS. That could have been obviously easily achieved directly in SQL using nested query (as displayed below) but I elected to stick to pandas for easier step by step explanation of my logic. "
   ]
  },
  {
   "cell_type": "code",
   "execution_count": null,
   "metadata": {
    "vscode": {
     "languageId": "sql"
    }
   },
   "outputs": [],
   "source": [
    "SELECT w.*, p.role\n",
    "FROM (SELECT c.name as champion, ROUND(AVG(w.have_won)*100, 2) AS winrate, count(w.champion) as games_played\n",
    "    FROM winrate_data w\n",
    "    LEFT JOIN champions c\n",
    "    ON w.champion = c.id\n",
    "    WHERE champion_name is not null\n",
    "    GROUP BY c.name) w\n",
    "LEFT JOIN champion_pool p\n",
    "ON w.champion = p.champion\n",
    "WHERE p.role is not null;"
   ]
  },
  {
   "cell_type": "markdown",
   "metadata": {},
   "source": [
    "## Visualisations\n",
    "\n",
    "Hacing all the nescesarry data we can proceed to prepare some visualisation asnwering client's (team's) question.\n",
    "\n",
    "### Question to answer\n",
    "The team wants to know which of the champions they prefer to play are visibly stronger or visibly weaker in the current patch. They want to make an informative decision what champions they should prefer and what avoid!\n",
    "\n",
    "They specified it would be helpful to look on a chart answering that quesion.\n",
    "\n",
    "### Chosing a color palette\n",
    "\n",
    "I'll go with a beautiful, warm palette called `rocket` and make sure that each champion got an unique color so it won't be missleading."
   ]
  },
  {
   "cell_type": "code",
   "execution_count": 11,
   "metadata": {},
   "outputs": [],
   "source": [
    "data_colors = data_transformed.sort_values(by='champion')\n",
    "\n",
    "colors = sns.color_palette('rocket', data_colors['champion'].nunique()).as_hex()\n",
    "color_map = dict(zip(data_colors['champion'].unique(), colors))"
   ]
  },
  {
   "cell_type": "markdown",
   "metadata": {},
   "source": [
    "### Chosing a chart type and its characteristics\n",
    "I have chosen interactive bar plot to show percentage of each champion win rate. I also added a line on 50% to ephasize a point considered average performance. "
   ]
  },
  {
   "cell_type": "code",
   "execution_count": 14,
   "metadata": {},
   "outputs": [],
   "source": [
    "from plotly.subplots import make_subplots\n",
    "\n",
    "def create_role_plots(df, role_order, plot_height=300, plot_width=800):\n",
    "    fig = make_subplots(\n",
    "        rows=len(role_order), cols=1,\n",
    "        subplot_titles=[f\"{role.capitalize()}\" for role in role_order],\n",
    "        vertical_spacing=0.06\n",
    "    )\n",
    "\n",
    "    for i, role in enumerate(role_order):\n",
    "        df_role = df[df['role'] == role]\n",
    "        fig.add_trace(\n",
    "            go.Bar(\n",
    "                x=df_role['champion'],\n",
    "                y=df_role['winrate'],\n",
    "                marker_color=[color_map[champ] for champ in df_role['champion']],\n",
    "                name=role\n",
    "            ),\n",
    "            row=i+1, col=1\n",
    "        )\n",
    "        # Add dashed line at 50% win rate\n",
    "        fig.add_shape(\n",
    "            type='line',\n",
    "            x0=-0.5, x1=len(df_role['champion'].unique())-0.5,\n",
    "            y0=50.0, y1=50.0,\n",
    "            line=dict(\n",
    "                color='Black',\n",
    "                width=2,\n",
    "                dash='dashdot',\n",
    "            ),\n",
    "            row=i+1, col=1\n",
    "        )\n",
    "\n",
    "    fig.update_layout(\n",
    "        title_text='Champion Win Rates by Role',\n",
    "        height=plot_height * len(role_order),  # Adjust the height based on the number of roles\n",
    "        width=plot_width,\n",
    "        plot_bgcolor = '#F5E9DA', \n",
    "        paper_bgcolor ='#F5E9DA',\n",
    "        showlegend=False, \n",
    "        title_font=dict( family='Roboto', size=24 ), \n",
    "        legend_font=dict( family='Roboto', size=20 ), \n",
    "        xaxis=dict( title_font=dict( family='Roboto', size=14 ) )\n",
    "    )\n",
    "\n",
    "    fig.update_yaxes(title_text='Win Rate (%)', range=[0, 100.00], showgrid = False)\n",
    "    fig.update_xaxes(title_text='Champion')\n",
    "\n",
    "    return fig"
   ]
  },
  {
   "cell_type": "code",
   "execution_count": 15,
   "metadata": {},
   "outputs": [],
   "source": [
    "role_order = ['top', 'jungler', 'mid', 'adc' ,'support']\n",
    "fig = create_role_plots(data_transformed, role_order, plot_height=500, plot_width=1200)\n",
    "fig.write_html(\"1_winrate_plot.html\")\n"
   ]
  }
 ],
 "metadata": {
  "kernelspec": {
   "display_name": ".venv",
   "language": "python",
   "name": "python3"
  },
  "language_info": {
   "codemirror_mode": {
    "name": "ipython",
    "version": 3
   },
   "file_extension": ".py",
   "mimetype": "text/x-python",
   "name": "python",
   "nbconvert_exporter": "python",
   "pygments_lexer": "ipython3",
   "version": "3.8.10"
  }
 },
 "nbformat": 4,
 "nbformat_minor": 2
}
